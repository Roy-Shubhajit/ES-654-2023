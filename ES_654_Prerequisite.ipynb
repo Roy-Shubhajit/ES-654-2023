{
  "nbformat": 4,
  "nbformat_minor": 0,
  "metadata": {
    "colab": {
      "provenance": [],
      "collapsed_sections": [
        "wOLXbsu2Qsw6",
        "MEvEnERLQvmS",
        "hTxfdnjev_6d",
        "0VZLtXUAxkgN",
        "_A1EVDdw9EYM",
        "hNDVvemHMotB",
        "F0m0iIrY9RPT",
        "yYfuNAfL9VAJ",
        "gUxPKAzW7Ghl",
        "k6fhAzC0-ylK"
      ]
    },
    "kernelspec": {
      "name": "python3",
      "display_name": "Python 3"
    },
    "language_info": {
      "name": "python"
    }
  },
  "cells": [
    {
      "cell_type": "markdown",
      "source": [
        "#Question 1"
      ],
      "metadata": {
        "id": "wOLXbsu2Qsw6"
      }
    },
    {
      "cell_type": "markdown",
      "source": [
        "For a given Matrix $A$ and $B$ of dimension $n \\times k$ and $k \\times m$ respectively, we can write the matrises as follows:\n",
        "<br>\n",
        "$$ A = \\begin{bmatrix}\n",
        "a_{11} & a_{12} & \\cdots & a_{1k}\\\\ \n",
        "a_{21} & a_{22} & \\cdots & a_{2k}\\\\ \n",
        "\\vdots & \\vdots & \\ddots &  \\vdots\\\\ \n",
        "a_{n1} & a_{n2} & \\cdots & a_{nk}\n",
        "\\end{bmatrix} \\quad B = \\begin{bmatrix}\n",
        "b_{11} & b_{12} & \\cdots & b_{1m}\\\\ \n",
        "b_{21} & b_{22} & \\cdots & b_{2m}\\\\ \n",
        "\\vdots & \\vdots & \\ddots &  \\vdots\\\\ \n",
        "b_{k1} & b_{k2} & \\cdots & b_{km}\n",
        "\\end{bmatrix}$$"
      ],
      "metadata": {
        "id": "7D9TTc2klH6G"
      }
    },
    {
      "cell_type": "markdown",
      "source": [
        "When we multiply the matrices $A$ and $B$, we perform the following operations\n",
        "<br>\n",
        "$$A\\cdot B = \\begin{bmatrix}\n",
        "\\sum_{i=1}^{k}a_{1i}\\cdot b_{i1} & \\sum_{i=1}^{k}a_{1i}\\cdot b_{i2} & \\cdots & \\sum_{i=1}^{k}a_{1i}\\cdot b_{im}\\\\ \n",
        "\\sum_{i=1}^{k}a_{2i}\\cdot b_{i1} & \\sum_{i=1}^{k}a_{2i}\\cdot b_{i2} & \\cdots & \\sum_{i=1}^{k}a_{2i}\\cdot b_{im}\\\\ \n",
        "\\vdots & \\vdots & \\ddots &  \\vdots\\\\ \n",
        "\\sum_{i=1}^{k}a_{ni}\\cdot b_{i1} & \\sum_{i=1}^{k}a_{ni}\\cdot b_{i2} & \\cdots & \\sum_{i=1}^{k}a_{ni}\\cdot b_{im}\n",
        "\\end{bmatrix}$$"
      ],
      "metadata": {
        "id": "W0QMIEcuQmtK"
      }
    },
    {
      "cell_type": "markdown",
      "source": [
        "For computing each element in $A\\times B$, $k$ many multiplications are being done. Now the matrix $A\\times B$ consists of $n\\times m$ elements. Therefore, in matrix multiplication, $nkm$ multiplications are done.\n",
        "<br>\n",
        "For computing each element in $A\\times B$, $k-1$ many summations are being done. Now the matrix $A\\times B$ consists of $n\\times m$ elements. Therefore, in matrix multiplication, $nm(k-1)$ summations are done."
      ],
      "metadata": {
        "id": "upax32onQpEI"
      }
    },
    {
      "cell_type": "markdown",
      "source": [
        "#Question 2"
      ],
      "metadata": {
        "id": "MEvEnERLQvmS"
      }
    },
    {
      "cell_type": "code",
      "source": [
        "import time\n",
        "import random\n",
        "import numpy as np\n",
        "import matplotlib.pyplot as plt"
      ],
      "metadata": {
        "id": "8lQ0516jTm09"
      },
      "execution_count": 20,
      "outputs": []
    },
    {
      "cell_type": "code",
      "source": [
        "#Taking Matrix dimensions\n",
        "n = int(input(\"Enter the number of rows in matrix A: \"))\n",
        "k = int(input(\"Enter the number of columns in matrix A: \"))\n",
        "m = int(input(\"Enter the number of columns in matrix B: \"))"
      ],
      "metadata": {
        "colab": {
          "base_uri": "https://localhost:8080/"
        },
        "id": "hCeyMhjURDXl",
        "outputId": "6a196515-f93c-443e-ba0a-65bf33b71fab"
      },
      "execution_count": 43,
      "outputs": [
        {
          "name": "stdout",
          "output_type": "stream",
          "text": [
            "Enter the number of rows in matrix A: 4\n",
            "Enter the number of columns in matrix A: 5\n",
            "Enter the number of columns in matrix B: 6\n"
          ]
        }
      ]
    },
    {
      "cell_type": "code",
      "source": [
        "#Implimenting Matrix multiplication using list of lists\n",
        "def mat_mul(A,B):\n",
        "  begin = time.time()\n",
        "  R1 = []\n",
        "  for i in range(len(A)):\n",
        "    r = []\n",
        "    for j in range(len(B[0])):\n",
        "      r.append(0)\n",
        "    R1.append(r)\n",
        "  for i in range(len(A)):\n",
        "    for j in range(len(B[0])):\n",
        "      for l in range(len(B)):\n",
        "        R1[i][j] += A[i][l] * B[l][j]\n",
        "  end = time.time()\n",
        "\n",
        "  return end - begin\n"
      ],
      "metadata": {
        "id": "IU5DG2BGSqMy"
      },
      "execution_count": 44,
      "outputs": []
    },
    {
      "cell_type": "code",
      "source": [
        "#Implimenting Matrix multiplication using Numpy\n",
        "def np_mat_mul(A,B):\n",
        "  begin = time.time()\n",
        "  R2 = np.dot(A,B)\n",
        "  end = time.time()\n",
        "  return end - begin\n"
      ],
      "metadata": {
        "id": "5bC07-8WUQ2k"
      },
      "execution_count": 45,
      "outputs": []
    },
    {
      "cell_type": "code",
      "source": [
        "#Computing 100 matrx multiplications and checking the time taken\n",
        "avg_imp = 0 #Time taken by list of list implimentation\n",
        "avg_np = 0 #Time taken by numpy implementation\n",
        "for i in range(100):\n",
        "  A = np.random.randint(100, size=(n,k))\n",
        "  B = np.random.randint(100, size=(k,m))\n",
        "  avg_imp += mat_mul(A,B)\n",
        "  avg_np += np_mat_mul(A,B)\n",
        "avg_imp = avg_imp/100\n",
        "avg_np = avg_np/100"
      ],
      "metadata": {
        "id": "rHcKfQmCtC0i"
      },
      "execution_count": 46,
      "outputs": []
    },
    {
      "cell_type": "code",
      "source": [
        "avg_imp #Average time taken by list of list implementation"
      ],
      "metadata": {
        "colab": {
          "base_uri": "https://localhost:8080/"
        },
        "id": "weQBXrROvGpY",
        "outputId": "0b39d10a-b213-4996-e936-1b7d246ad97c"
      },
      "execution_count": 49,
      "outputs": [
        {
          "output_type": "execute_result",
          "data": {
            "text/plain": [
              "0.0002846646308898926"
            ]
          },
          "metadata": {},
          "execution_count": 49
        }
      ]
    },
    {
      "cell_type": "code",
      "source": [
        "avg_np #Average time taken by numpy implementation"
      ],
      "metadata": {
        "colab": {
          "base_uri": "https://localhost:8080/"
        },
        "id": "Hv3m1JxJvJiG",
        "outputId": "f7f85ade-eebd-4e72-b950-c4be7aa45a61"
      },
      "execution_count": 50,
      "outputs": [
        {
          "output_type": "execute_result",
          "data": {
            "text/plain": [
              "9.78708267211914e-06"
            ]
          },
          "metadata": {},
          "execution_count": 50
        }
      ]
    },
    {
      "cell_type": "code",
      "source": [
        "k,m = 50, 75\n",
        "x_axis, y_axis_imp, y_axis_np = [], [], []\n",
        "for i in range(10,101):\n",
        "  x_axis.append(i)\n",
        "  avg_imp = 0\n",
        "  avg_np = 0  \n",
        "  for j in range(100):\n",
        "    a = np.random.randint(100, size=(i,k))\n",
        "    b = np.random.randint(100, size=(k,m))\n",
        "    avg_imp += mat_mul(A,B)\n",
        "    avg_np += np_mat_mul(A,B)\n",
        "  avg_imp = avg_imp/100\n",
        "  avg_np = avg_np/100\n",
        "  y_axis_imp.append(avg_imp)\n",
        "  y_axis_np.append(avg_np)"
      ],
      "metadata": {
        "id": "B1Aeuo-IbE7E"
      },
      "execution_count": 51,
      "outputs": []
    },
    {
      "cell_type": "code",
      "source": [
        "#To plot the change in time as the size of the matrix grows\n",
        "fig, ax = plt.subplots()\n",
        "ax.plot(x_axis, y_axis_imp, label=\"list of list\")\n",
        "ax.plot(x_axis, y_axis_np, label=\"Numpy\")\n",
        "leg = ax.legend(loc =\"upper right\")\n",
        "fig.show()"
      ],
      "metadata": {
        "colab": {
          "base_uri": "https://localhost:8080/",
          "height": 265
        },
        "id": "Ttbbm32PdFIj",
        "outputId": "3148b599-10ef-405e-cb20-120538579392"
      },
      "execution_count": 52,
      "outputs": [
        {
          "output_type": "display_data",
          "data": {
            "text/plain": [
              "<Figure size 432x288 with 1 Axes>"
            ],
            "image/png": "[encoded data removed]"
          },
          "metadata": {
            "needs_background": "light"
          }
        }
      ]
    },
    {
      "cell_type": "markdown",
      "source": [
        "#Question 3"
      ],
      "metadata": {
        "id": "hTxfdnjev_6d"
      }
    },
    {
      "cell_type": "markdown",
      "source": [
        "If it takes one pass to find the highest element in the array, then it implies that it takes $n-1$ many comparisons.\n",
        "<br>\n",
        "After finding the largest element, we remove that element from the array and find the next largest element. As the new array has $n-1$ elements, it will take $n-2$ comparisons to find the $2nd$ highest element.\n",
        "<br>\n",
        "We need to find the $\\frac{n}{2}$th highest element. If we continue the above procedure, then it will take following numbers of comparison:\n",
        "$$(n-1) + (n-2) + \\cdots + \\left ( \\frac{n}{2}-1\\right ) = \\frac{n(3n-2)}{8}$$\n",
        "<br>\n",
        "Therefore, it takes $O(n^2)$ time to find the median of the array.\n",
        "<br><br>\n",
        "Another approach will be sorting the array in $O(n\\log n)$ time and return the $\\frac{n}{2}$th value in the sorted array."
      ],
      "metadata": {
        "id": "iuZbbD_jHp3B"
      }
    },
    {
      "cell_type": "code",
      "source": [
        "import numpy as np\n",
        "import time"
      ],
      "metadata": {
        "id": "5gIQtXIzP0F_"
      },
      "execution_count": 53,
      "outputs": []
    },
    {
      "cell_type": "code",
      "source": [
        "#Approach 1\n",
        "def median_1(x):\n",
        "  begin = time.time()\n",
        "  for i in range(int(len(x)/2)+1):\n",
        "    max = x[0]\n",
        "    for j in x[1:]:\n",
        "      if j > max:\n",
        "        max = j\n",
        "    x = np.delete(x, np.where(x == max))\n",
        "  end = time.time()\n",
        "  return max, end-begin"
      ],
      "metadata": {
        "id": "fhEOrfVSxOcG"
      },
      "execution_count": 65,
      "outputs": []
    },
    {
      "cell_type": "code",
      "source": [
        "#Approach 2\n",
        "def median_2(x):\n",
        "  begin = time.time()\n",
        "  y = np.sort(x)\n",
        "  end = time.time()\n",
        "  return y[int(len(x)/2)-1], end-begin"
      ],
      "metadata": {
        "id": "LfXeassfVyLw"
      },
      "execution_count": 66,
      "outputs": []
    },
    {
      "cell_type": "code",
      "source": [
        "#Approach 3\n",
        "def median_3(x):\n",
        "  begin = time.time()\n",
        "  med = np.median(x)\n",
        "  end = time.time()\n",
        "  return med, end-begin"
      ],
      "metadata": {
        "id": "BkS-Jvy5bjEU"
      },
      "execution_count": 67,
      "outputs": []
    },
    {
      "cell_type": "code",
      "source": [
        "T1, T2, T3 = 0, 0, 0\n",
        "for i in range(100):\n",
        "  x = np.random.uniform(low=0.0, high=1.0, size=(20,))\n",
        "  m1, t1 = median_1(x)\n",
        "  m2, t2 = median_2(x)\n",
        "  m3, t3 = median_3(x)\n",
        "  T1 += t1\n",
        "  T2 += t2\n",
        "  T3 += t3\n",
        "T1 /= 100 #Time taken by 1st Approach\n",
        "T2 /= 100 #TIme taken by 2nd Approach\n",
        "T3 /= 100 #Time taken by 3rd Approach"
      ],
      "metadata": {
        "id": "t-7fVqIfaLIN"
      },
      "execution_count": 68,
      "outputs": []
    },
    {
      "cell_type": "code",
      "source": [
        "T1, T2, T3"
      ],
      "metadata": {
        "colab": {
          "base_uri": "https://localhost:8080/"
        },
        "id": "92ZEZaV2QrKo",
        "outputId": "df52bbf9-4a41-405b-c04b-7056939a6273"
      },
      "execution_count": 69,
      "outputs": [
        {
          "output_type": "execute_result",
          "data": {
            "text/plain": [
              "(0.00033492326736450195, 7.359981536865235e-06, 0.0001314425468444824)"
            ]
          },
          "metadata": {},
          "execution_count": 69
        }
      ]
    },
    {
      "cell_type": "code",
      "source": [
        "x_axis, y_axis_1, y_axis_2, y_axis_3 = [], [], [], []\n",
        "for i in range(10,101):\n",
        "  x_axis.append(i)\n",
        "  T1, T2, T3 = 0, 0, 0 \n",
        "  for j in range(100):\n",
        "    x = np.random.uniform(low=0.0, high=1.0, size=(i,))\n",
        "    m1, t1 = median_1(x)\n",
        "    m2, t2 = median_2(x)\n",
        "    m3, t3 = median_3(x)\n",
        "    T1 += t1\n",
        "    T2 += t2\n",
        "    T3 += t3\n",
        "  y_axis_1.append(T1/100)\n",
        "  y_axis_2.append(T2/100)\n",
        "  y_axis_3.append(T3/100)"
      ],
      "metadata": {
        "id": "PPpGc5WXg0Qm"
      },
      "execution_count": 70,
      "outputs": []
    },
    {
      "cell_type": "code",
      "source": [
        "#To plot the change in time as the size of the array grows\n",
        "fig, ax = plt.subplots()\n",
        "ax.plot(x_axis, y_axis_1, label=\"Approach 1\")\n",
        "ax.plot(x_axis, y_axis_2, label=\"Sort\")\n",
        "ax.plot(x_axis, y_axis_3, label=\"numpy\")\n",
        "leg = ax.legend(loc =\"upper left\")\n",
        "fig.show()"
      ],
      "metadata": {
        "colab": {
          "base_uri": "https://localhost:8080/",
          "height": 265
        },
        "id": "eh0ohpD2g6bN",
        "outputId": "4afb5ca0-7510-42c6-cdb4-49cdc8c7e6f4"
      },
      "execution_count": 73,
      "outputs": [
        {
          "output_type": "display_data",
          "data": {
            "text/plain": [
              "<Figure size 432x288 with 1 Axes>"
            ],
            "image/png": "[encoded data removed]"
          },
          "metadata": {
            "needs_background": "light"
          }
        }
      ]
    },
    {
      "cell_type": "markdown",
      "source": [
        "#Question 4"
      ],
      "metadata": {
        "id": "0VZLtXUAxkgN"
      }
    },
    {
      "cell_type": "markdown",
      "source": [
        "For the function $$f(x,y) = x^2y + y^3\\sin(x)$$ The gradient is calculated as below:\n",
        "<br>\n",
        "$$\\nabla f(x,y) = \\left [ \\frac{\\delta f(x,y)}{\\delta x}, \\frac{\\delta f(x,y)}{\\delta y} \\right ]  =\\left [  2xy + y^3\\cos(x), x^2+3y^2\\sin(x) \\right ]$$ "
      ],
      "metadata": {
        "id": "kPOVkaFKxnZY"
      }
    },
    {
      "cell_type": "markdown",
      "source": [
        "#Question 5"
      ],
      "metadata": {
        "id": "_A1EVDdw9EYM"
      }
    },
    {
      "cell_type": "code",
      "source": [
        "import jax.numpy as jnp\n",
        "from jax import grad, jit, vmap\n",
        "from jax import random\n",
        "import random as rn\n",
        "\n",
        "key = random.PRNGKey(0)"
      ],
      "metadata": {
        "id": "TjHmhGo09HU-"
      },
      "execution_count": null,
      "outputs": []
    },
    {
      "cell_type": "code",
      "source": [
        "#Defining the function\n",
        "def func(x,y):\n",
        "  return x*x*y + y*y*y*jnp.sin(x)"
      ],
      "metadata": {
        "id": "F2n3hXOG9LwA"
      },
      "execution_count": 77,
      "outputs": []
    },
    {
      "cell_type": "code",
      "source": [
        "#Defining the Gradient of the function\n",
        "def grad_func(x,y):\n",
        "  return [(2*x*y) + (y*y*y*jnp.cos(x)), (x*x)+(3*y*y*jnp.sin(x))]"
      ],
      "metadata": {
        "id": "rDHYtGnQ9xLq"
      },
      "execution_count": 78,
      "outputs": []
    },
    {
      "cell_type": "code",
      "source": [
        "#Generating Two random valued list for input\n",
        "x = random.uniform(key, shape=(10,))\n",
        "y = random.uniform(key, shape=(10,))"
      ],
      "metadata": {
        "id": "naINO14z-g65"
      },
      "execution_count": 79,
      "outputs": []
    },
    {
      "cell_type": "code",
      "source": [
        "grad_jax = grad(func, (0,1))"
      ],
      "metadata": {
        "id": "aCmCdoM_ACap"
      },
      "execution_count": 80,
      "outputs": []
    },
    {
      "cell_type": "code",
      "source": [
        "#Calculating Gradient for 10 pairs of input\n",
        "for i in range(10):\n",
        "  g1 = grad_func(x[i],y[i])\n",
        "  g2 = grad_jax(x[i], y[i])\n",
        "  print(f\"Gradient as per analytical solution: {g1[0].tolist(), g1[1].tolist()}\")\n",
        "  print(f\"Gradient as per jax solution: {g2[0].tolist(), g2[1].tolist()}\\n\")\n",
        "  "
      ],
      "metadata": {
        "colab": {
          "base_uri": "https://localhost:8080/"
        },
        "id": "z_gPkO3u_P5C",
        "outputId": "5d3e6d48-563b-44a8-9f48-dc73658e6bea"
      },
      "execution_count": 81,
      "outputs": [
        {
          "output_type": "stream",
          "name": "stdout",
          "text": [
            "Gradient as per analytical solution: (0.2938324213027954, 0.257269024848938)\n",
            "Gradient as per jax solution: (0.2938324213027954, 0.257269024848938)\n",
            "\n",
            "Gradient as per analytical solution: (0.9116300344467163, 0.9872256517410278)\n",
            "Gradient as per jax solution: (0.9116300344467163, 0.9872257709503174)\n",
            "\n",
            "Gradient as per analytical solution: (0.43679311871528625, 0.41027069091796875)\n",
            "Gradient as per jax solution: (0.43679308891296387, 0.41027069091796875)\n",
            "\n",
            "Gradient as per analytical solution: (0.11830776184797287, 0.08965349197387695)\n",
            "Gradient as per jax solution: (0.11830776184797287, 0.08965349197387695)\n",
            "\n",
            "Gradient as per analytical solution: (0.2515691816806793, 0.21453708410263062)\n",
            "Gradient as per jax solution: (0.25156915187835693, 0.21453708410263062)\n",
            "\n",
            "Gradient as per analytical solution: (0.46322864294052124, 0.43981415033340454)\n",
            "Gradient as per jax solution: (0.46322864294052124, 0.43981415033340454)\n",
            "\n",
            "Gradient as per analytical solution: (0.1413169801235199, 0.10994172096252441)\n",
            "Gradient as per jax solution: (0.1413169801235199, 0.10994172096252441)\n",
            "\n",
            "Gradient as per analytical solution: (0.17430664598941803, 0.140054851770401)\n",
            "Gradient as per jax solution: (0.17430664598941803, 0.140054851770401)\n",
            "\n",
            "Gradient as per analytical solution: (1.5047581195831299, 1.817995309829712)\n",
            "Gradient as per jax solution: (1.5047581195831299, 1.817995309829712)\n",
            "\n",
            "Gradient as per analytical solution: (1.2974952459335327, 1.5153558254241943)\n",
            "Gradient as per jax solution: (1.2974951267242432, 1.5153555870056152)\n",
            "\n"
          ]
        }
      ]
    },
    {
      "cell_type": "markdown",
      "source": [
        "#Question 6"
      ],
      "metadata": {
        "id": "hNDVvemHMotB"
      }
    },
    {
      "cell_type": "code",
      "source": [
        "from sympy import diff, sin\n",
        "from sympy.abc import x,y"
      ],
      "metadata": {
        "id": "RdHUQHSyMrVn"
      },
      "execution_count": 82,
      "outputs": []
    },
    {
      "cell_type": "code",
      "source": [
        "func = x*x*y + y*y*y*sin(x)"
      ],
      "metadata": {
        "id": "isqW8paoeJzK"
      },
      "execution_count": 83,
      "outputs": []
    },
    {
      "cell_type": "code",
      "source": [
        "grad = [diff(func, x), diff(func, y)]"
      ],
      "metadata": {
        "id": "iHWZWBpjetY4"
      },
      "execution_count": 84,
      "outputs": []
    },
    {
      "cell_type": "code",
      "source": [
        "print(grad)"
      ],
      "metadata": {
        "colab": {
          "base_uri": "https://localhost:8080/"
        },
        "id": "gR__SvIGe13q",
        "outputId": "f5f69bc4-e6b6-436c-c3ef-abe8531204b9"
      },
      "execution_count": 85,
      "outputs": [
        {
          "output_type": "stream",
          "name": "stdout",
          "text": [
            "[2*x*y + y**3*cos(x), x**2 + 3*y**2*sin(x)]\n"
          ]
        }
      ]
    },
    {
      "cell_type": "markdown",
      "source": [
        "#Question 7"
      ],
      "metadata": {
        "id": "GlrdNUe8fd_q"
      }
    },
    {
      "cell_type": "code",
      "source": [
        "Dict = {'2022': {\"Branch 1\": {\"Roll Number 1\": {\"Name\": \"N1\", \"Marks\": {\"Maths\": 100, \"English\": 70}}}, \"Branch 2\": {}}}"
      ],
      "metadata": {
        "id": "Huk2ebUKfg4i"
      },
      "execution_count": 86,
      "outputs": []
    },
    {
      "cell_type": "code",
      "source": [
        "Dict"
      ],
      "metadata": {
        "colab": {
          "base_uri": "https://localhost:8080/"
        },
        "id": "YFGEQaC2srFK",
        "outputId": "c10473dc-1d72-48b3-98e9-627aaef14122"
      },
      "execution_count": 87,
      "outputs": [
        {
          "output_type": "execute_result",
          "data": {
            "text/plain": [
              "{'2022': {'Branch 1': {'Roll Number 1': {'Name': 'N1',\n",
              "    'Marks': {'Maths': 100, 'English': 70}}},\n",
              "  'Branch 2': {}}}"
            ]
          },
          "metadata": {},
          "execution_count": 87
        }
      ]
    },
    {
      "cell_type": "code",
      "source": [
        "for i in range(5):\n",
        "  year = input(\"Enter the year: \")\n",
        "  if year not in Dict:\n",
        "    Dict[year] = {\"Branch 1\": {}, \"Branch 2\": {}}\n",
        "  else:\n",
        "    branch = int(input(\"Enter Branch no.: \"))\n",
        "    if f\"Branch {branch}\" not in Dict[year]:\n",
        "      Dict[year][f\"Branch {branch}\"] = {}\n",
        "    else:\n",
        "      roll = int(input(\"Enter Roll no.: \"))\n",
        "      if f\"Roll Number {roll}\" not in Dict[year][f\"Branch {branch}\"]:\n",
        "        Dict[year][f\"Branch {branch}\"][f\"Roll Number {roll}\"] = {}\n",
        "        name = input(\"Enter Name: \")\n",
        "        Dict[year][f\"Branch {branch}\"][f\"Roll Number {roll}\"][\"Name\"] = name\n",
        "        Dict[year][f\"Branch {branch}\"][f\"Roll Number {roll}\"][\"Marks\"] = {}\n",
        "        n = int(input(\"Enter number of subjects to be added: \"))\n",
        "        for j in range(n):\n",
        "          subject = input(f\"Enter the subject {j+1}: \")\n",
        "          marks = int(input(f\"Enter marks in {subject}: \"))\n",
        "          Dict[year][f\"Branch {branch}\"][f\"Roll Number {roll}\"][\"Marks\"][subject] = marks\n",
        "      else:\n",
        "        subject = input(\"Enter the subject: \")\n",
        "        if subject not in Dict[year][f\"Branch {branch}\"][f\"Roll Number {roll}\"][\"Marks\"]:\n",
        "          marks = int(input(f\"Enter marks in {subject}: \"))\n",
        "          Dict[year][f\"Branch {branch}\"][f\"Roll Number {roll}\"][\"Marks\"][subject] = marks\n",
        "        else:\n",
        "          print(Dict[year][f\"Branch {branch}\"][f\"Roll Number {roll}\"][\"Marks\"][subject])\n",
        "\n"
      ],
      "metadata": {
        "colab": {
          "base_uri": "https://localhost:8080/"
        },
        "id": "ZfjTLT5qvWtL",
        "outputId": "d4dad038-5bbd-46ee-bf6d-3f705aaa650f"
      },
      "execution_count": 91,
      "outputs": [
        {
          "name": "stdout",
          "output_type": "stream",
          "text": [
            "Enter the year: 2022\n",
            "Enter Branch no.: 1\n",
            "Enter Roll no.: 1\n",
            "Enter the subject: Maths\n",
            "100\n",
            "Enter the year: 2022\n",
            "Enter Branch no.: 2\n",
            "Enter Roll no.: 1\n",
            "Enter the subject: Maths\n",
            "90\n",
            "Enter the year: 2024\n",
            "Enter Branch no.: 1\n",
            "Enter Roll no.: 1\n",
            "Enter Name: N4\n",
            "Enter number of subjects to be added: 2\n",
            "Enter the subject 1: Maths\n",
            "Enter marks in Maths: 90\n",
            "Enter the subject 2: CS\n",
            "Enter marks in CS: 100\n",
            "Enter the year: 2025\n",
            "Enter Branch no.: 1\n",
            "Enter Roll no.: 1\n",
            "Enter Name: N5\n",
            "Enter number of subjects to be added: 1\n",
            "Enter the subject 1: Maths\n",
            "Enter marks in Maths: 99\n",
            "Enter the year: 2027\n"
          ]
        }
      ]
    },
    {
      "cell_type": "markdown",
      "source": [
        "#Question 8"
      ],
      "metadata": {
        "id": "F0m0iIrY9RPT"
      }
    },
    {
      "cell_type": "code",
      "source": [
        "class subject:\n",
        "  def __init__(self, Subject_Name, marks):\n",
        "    self.Subject_Name = Subject_Name\n",
        "    self.marks = marks\n",
        "\n",
        "class student:\n",
        "  def __init__(self, Student_Name, roll):\n",
        "    self.Student_Name = Student_Name\n",
        "    self.roll = roll\n",
        "    self.subjects = []\n",
        "\n",
        "  def student_details(self):\n",
        "    print(f\"Roll number: {self.roll}\")\n",
        "    print(f\"Name: {self.Student_Name}\")\n",
        "    if self.subjects == []:\n",
        "      print(\"No subjects added\")\n",
        "    else:\n",
        "      for i in self.subjects:\n",
        "        print(f\"Subject: {i.Subject_Name}, Marks: {i.marks}\")\n",
        "\n",
        "  def add_subject(self):\n",
        "    Subject_Name = input(\"Enter the name of the subject: \")\n",
        "    marks = int(input(f\"Enter the marks in {Subject_Name}: \"))\n",
        "    self.subjects.append(subject(Subject_Name, marks))\n",
        "\n",
        "class branch:\n",
        "  def __init__(self, Branch_Name):\n",
        "    self.Branch_Name = Branch_Name\n",
        "    self.students = []\n",
        "\n",
        "  def display_students(self):\n",
        "    if self.students == []:\n",
        "      print(f\"No students added in {self.Branch_Name}\")\n",
        "    else:\n",
        "      for i in self.students:\n",
        "        print(f\"Roll Number: {i.roll}, Name: {i.Student_Name}\")\n",
        "\n",
        "  def add_students(self):\n",
        "    roll = input(\"Enter Student Roll number: \")\n",
        "    Student_Name = input(\"Enter Student Name: \")\n",
        "    self.students.append(student(Student_Name, roll))\n",
        "\n",
        "class Year:\n",
        "  def __init__(self, year):\n",
        "    self.year = year\n",
        "    self.branches = []\n",
        "\n",
        "  def add_branch(self):\n",
        "    branch_name = input(\"Enter Branch Name: \")\n",
        "    self.branches.append(branch(branch_name))\n",
        "  \n",
        "  def display_branches(self):\n",
        "    if self.branches == []:\n",
        "      print(\"No branches added\")\n",
        "    else:\n",
        "      for i in self.branches:\n",
        "        print(i.Branch_Name)\n",
        "  \n"
      ],
      "metadata": {
        "id": "T6weDMn-9T3i"
      },
      "execution_count": 389,
      "outputs": []
    },
    {
      "cell_type": "code",
      "source": [
        "#To create a year\n",
        "def session():\n",
        "  k = int(input(\"Enter the year: \"))\n",
        "  y = Year(k)\n",
        "  return y\n",
        "\n",
        "#To add branch\n",
        "def branch_add(y):\n",
        "  y.add_branch()\n",
        "\n",
        "#To display branches in a year\n",
        "def branch_display(y):\n",
        "  y.display_branches()\n",
        "\n",
        "#To add students in a branch\n",
        "def student_add(y):\n",
        "  branch_no = int(input(\"Enter Branch no.: \"))\n",
        "  if y.branches == []:\n",
        "    print(\"No such branch\")\n",
        "    print(\"Try adding branch\")\n",
        "  else:\n",
        "    y.branches[branch_no-1].add_students()\n",
        "\n",
        "#To display students in a branch\n",
        "def students_display(y):\n",
        "  branch_no = int(input(\"Enter Branch no.: \"))\n",
        "  if y.branches == []:\n",
        "    print(\"No such branch\")\n",
        "    print(\"Try adding branch\")\n",
        "  else:\n",
        "    y.branches[branch_no-1].display_students()\n",
        "\n",
        "#To display Student details\n",
        "def detail_student(y):\n",
        "  branch_no = int(input(\"Enter Branch no.: \"))\n",
        "  roll = int(input(\"Enter Roll number of student: \"))\n",
        "  if y.branches == []:\n",
        "    print(\"No such branch\")\n",
        "    print(\"Try adding branch\")\n",
        "  elif y.branches[branch_no-1].students == []:\n",
        "    print(\"No such student\")\n",
        "    print(\"Try adding Student\")\n",
        "  else:\n",
        "    y.branches[branch_no-1].students[roll-1].student_details()\n",
        "\n",
        "#To Add a subject\n",
        "def subject_add(y):\n",
        "  branch_no = int(input(\"Enter Branch no.: \"))\n",
        "  roll = int(input(\"Enter Roll number of student: \"))\n",
        "  if y.branches == []:\n",
        "    print(\"No such branch\")\n",
        "    print(\"Try adding branch\")\n",
        "  elif y.branches[branch_no-1].students == []:\n",
        "    print(\"No such student\")\n",
        "    print(\"Try adding Student\")\n",
        "  else:\n",
        "    y.branches[branch_no-1].students[roll-1].add_subject()"
      ],
      "metadata": {
        "id": "SpSTGF7fkwqV"
      },
      "execution_count": 391,
      "outputs": []
    },
    {
      "cell_type": "code",
      "source": [
        "y1 = session()"
      ],
      "metadata": {
        "colab": {
          "base_uri": "https://localhost:8080/"
        },
        "id": "7Z5Y1WVcwkjZ",
        "outputId": "00fb014f-172a-4538-cc2d-c004419b2548"
      },
      "execution_count": 392,
      "outputs": [
        {
          "name": "stdout",
          "output_type": "stream",
          "text": [
            "Enter the year: 2022\n"
          ]
        }
      ]
    },
    {
      "cell_type": "code",
      "source": [
        "branch_add(y1)"
      ],
      "metadata": {
        "colab": {
          "base_uri": "https://localhost:8080/"
        },
        "id": "T0kobB_5zEtY",
        "outputId": "56c38960-952d-41cb-aff0-a6a241310edd"
      },
      "execution_count": 394,
      "outputs": [
        {
          "name": "stdout",
          "output_type": "stream",
          "text": [
            "Enter Branch Name: 2\n"
          ]
        }
      ]
    },
    {
      "cell_type": "code",
      "source": [
        "branch_display(y1)"
      ],
      "metadata": {
        "colab": {
          "base_uri": "https://localhost:8080/"
        },
        "id": "q9wSusy2zGKQ",
        "outputId": "74b71bec-05b6-4447-f118-28257b5f4981"
      },
      "execution_count": 395,
      "outputs": [
        {
          "output_type": "stream",
          "name": "stdout",
          "text": [
            "1\n",
            "2\n"
          ]
        }
      ]
    },
    {
      "cell_type": "code",
      "source": [
        "student_add(y1)"
      ],
      "metadata": {
        "colab": {
          "base_uri": "https://localhost:8080/"
        },
        "id": "roQuaxrHzMBg",
        "outputId": "c99bd2ab-03fa-4a02-c187-facb5c89f66a"
      },
      "execution_count": 397,
      "outputs": [
        {
          "name": "stdout",
          "output_type": "stream",
          "text": [
            "Enter Branch no.: 2\n",
            "Enter Student Roll number: 1\n",
            "Enter Student Name: N2\n"
          ]
        }
      ]
    },
    {
      "cell_type": "code",
      "source": [
        "students_display(y1)"
      ],
      "metadata": {
        "colab": {
          "base_uri": "https://localhost:8080/"
        },
        "id": "iKzpxP4VzSGH",
        "outputId": "19e86ca6-2f27-4f50-d175-7820693063b7"
      },
      "execution_count": 398,
      "outputs": [
        {
          "output_type": "stream",
          "name": "stdout",
          "text": [
            "Enter Branch no.: 1\n",
            "Roll Number: 1, Name: N1\n"
          ]
        }
      ]
    },
    {
      "cell_type": "code",
      "source": [
        "detail_student(y1)"
      ],
      "metadata": {
        "colab": {
          "base_uri": "https://localhost:8080/"
        },
        "id": "sqLRDoTBwsz-",
        "outputId": "e47b55f6-81e9-4c3e-a9a8-ea46e00482f7"
      },
      "execution_count": 401,
      "outputs": [
        {
          "output_type": "stream",
          "name": "stdout",
          "text": [
            "Enter Branch no.: 1\n",
            "Enter Roll number of student: 1\n",
            "Roll number: 1\n",
            "Name: N1\n",
            "Subject: Maths, Marks: 100\n"
          ]
        }
      ]
    },
    {
      "cell_type": "code",
      "source": [
        "subject_add(y1)"
      ],
      "metadata": {
        "colab": {
          "base_uri": "https://localhost:8080/"
        },
        "id": "NS36autazWOA",
        "outputId": "44657156-6ac8-49df-bed4-9ac84b1c63c0"
      },
      "execution_count": 400,
      "outputs": [
        {
          "name": "stdout",
          "output_type": "stream",
          "text": [
            "Enter Branch no.: 1\n",
            "Enter Roll number of student: 1\n",
            "Enter the name of the subject: Maths\n",
            "Enter the marks in Maths: 100\n"
          ]
        }
      ]
    },
    {
      "cell_type": "markdown",
      "source": [
        "#Question 9"
      ],
      "metadata": {
        "id": "yYfuNAfL9VAJ"
      }
    },
    {
      "cell_type": "code",
      "source": [
        "import numpy as np\n",
        "import matplotlib.pyplot as plt\n",
        "import math"
      ],
      "metadata": {
        "id": "KF6oXzr7_UvA"
      },
      "execution_count": 92,
      "outputs": []
    },
    {
      "cell_type": "code",
      "source": [
        "x = np.arange(0.5, 100.5, 0.5)"
      ],
      "metadata": {
        "id": "0fn2myhm9X87"
      },
      "execution_count": 93,
      "outputs": []
    },
    {
      "cell_type": "code",
      "source": [
        "def f1(x):\n",
        "  return x\n",
        "def f2(x):\n",
        "  return x*x\n",
        "def f3(x):\n",
        "  return (x*x*x)/100\n",
        "def f4(x):\n",
        "  return np.sin(x)\n",
        "def f5(x):\n",
        "  return np.sin(x)/x\n",
        "def f6(x):\n",
        "  return np.log(x)\n",
        "def f7(x):\n",
        "  return np.exp(x)"
      ],
      "metadata": {
        "id": "vC-UPrnV_ao0"
      },
      "execution_count": 94,
      "outputs": []
    },
    {
      "cell_type": "code",
      "source": [
        "plt.plot(x, f1(x))\n",
        "plt.xlabel('x')\n",
        "plt.ylabel('y')\n",
        "plt.title('y = x')\n",
        "plt.show()"
      ],
      "metadata": {
        "colab": {
          "base_uri": "https://localhost:8080/",
          "height": 295
        },
        "id": "ZeLyCe2PALIe",
        "outputId": "fb974cf4-012a-4d83-dbc5-718c7f0038d7"
      },
      "execution_count": 95,
      "outputs": [
        {
          "output_type": "display_data",
          "data": {
            "text/plain": [
              "<Figure size 432x288 with 1 Axes>"
            ],
            "image/png": "[encoded data removed]"
          },
          "metadata": {
            "needs_background": "light"
          }
        }
      ]
    },
    {
      "cell_type": "code",
      "source": [
        "plt.plot(x, f2(x))\n",
        "plt.xlabel('x')\n",
        "plt.ylabel('y')\n",
        "plt.title('y = x*x')\n",
        "plt.show()"
      ],
      "metadata": {
        "colab": {
          "base_uri": "https://localhost:8080/",
          "height": 295
        },
        "id": "oFd70SyvA0N7",
        "outputId": "f3d89b6d-f360-4b5d-a00c-2a2e90e80f7e"
      },
      "execution_count": 96,
      "outputs": [
        {
          "output_type": "display_data",
          "data": {
            "text/plain": [
              "<Figure size 432x288 with 1 Axes>"
            ],
            "image/png": "[encoded data removed]"
          },
          "metadata": {
            "needs_background": "light"
          }
        }
      ]
    },
    {
      "cell_type": "code",
      "source": [
        "plt.plot(x, f3(x))\n",
        "plt.xlabel('x')\n",
        "plt.ylabel('y')\n",
        "plt.title('y = (x*x*x)/100')\n",
        "plt.show()"
      ],
      "metadata": {
        "colab": {
          "base_uri": "https://localhost:8080/",
          "height": 295
        },
        "id": "mOfsfdDGA0yW",
        "outputId": "f61eece3-641b-4d13-b873-1339273aeead"
      },
      "execution_count": 97,
      "outputs": [
        {
          "output_type": "display_data",
          "data": {
            "text/plain": [
              "<Figure size 432x288 with 1 Axes>"
            ],
            "image/png": "[encoded data removed]"
          },
          "metadata": {
            "needs_background": "light"
          }
        }
      ]
    },
    {
      "cell_type": "code",
      "source": [
        "plt.plot(x, f4(x))\n",
        "plt.xlabel('x')\n",
        "plt.ylabel('y')\n",
        "plt.title('y = sin(x)')\n",
        "plt.show()"
      ],
      "metadata": {
        "colab": {
          "base_uri": "https://localhost:8080/",
          "height": 295
        },
        "id": "g23xudbMA1L8",
        "outputId": "36a0cba9-3d54-455a-9691-8731227e0225"
      },
      "execution_count": 98,
      "outputs": [
        {
          "output_type": "display_data",
          "data": {
            "text/plain": [
              "<Figure size 432x288 with 1 Axes>"
            ],
            "image/png": "[encoded data removed]"
          },
          "metadata": {
            "needs_background": "light"
          }
        }
      ]
    },
    {
      "cell_type": "code",
      "source": [
        "plt.plot(x, f5(x))\n",
        "plt.xlabel('x')\n",
        "plt.ylabel('y')\n",
        "plt.title('y = sin(x)/x')\n",
        "plt.show()"
      ],
      "metadata": {
        "colab": {
          "base_uri": "https://localhost:8080/",
          "height": 295
        },
        "id": "MWwUSb5YA1s4",
        "outputId": "453e366c-09a0-49ce-c332-4f9f97c44e1b"
      },
      "execution_count": 99,
      "outputs": [
        {
          "output_type": "display_data",
          "data": {
            "text/plain": [
              "<Figure size 432x288 with 1 Axes>"
            ],
            "image/png": "[encoded data removed]"
          },
          "metadata": {
            "needs_background": "light"
          }
        }
      ]
    },
    {
      "cell_type": "code",
      "source": [
        "plt.plot(x, f6(x))\n",
        "plt.xlabel('x')\n",
        "plt.ylabel('y')\n",
        "plt.title('y = log(x)')\n",
        "plt.show()"
      ],
      "metadata": {
        "colab": {
          "base_uri": "https://localhost:8080/",
          "height": 295
        },
        "id": "QEUbEDiLA2Fc",
        "outputId": "9d6726fb-603f-4fdd-f50c-da6e20290484"
      },
      "execution_count": 100,
      "outputs": [
        {
          "output_type": "display_data",
          "data": {
            "text/plain": [
              "<Figure size 432x288 with 1 Axes>"
            ],
            "image/png": "[encoded data removed]"
          },
          "metadata": {
            "needs_background": "light"
          }
        }
      ]
    },
    {
      "cell_type": "code",
      "source": [
        "plt.plot(x, f7(x))\n",
        "plt.xlabel('x')\n",
        "plt.ylabel('y')\n",
        "plt.title('y = e^x')\n",
        "plt.show()"
      ],
      "metadata": {
        "colab": {
          "base_uri": "https://localhost:8080/",
          "height": 295
        },
        "id": "NCTXmdcVA2dr",
        "outputId": "17f4e102-3522-4425-e7e4-c7199f356ca8"
      },
      "execution_count": 101,
      "outputs": [
        {
          "output_type": "display_data",
          "data": {
            "text/plain": [
              "<Figure size 432x288 with 1 Axes>"
            ],
            "image/png": "[encoded data removed]"
          },
          "metadata": {
            "needs_background": "light"
          }
        }
      ]
    },
    {
      "cell_type": "markdown",
      "source": [
        "#Question 10 and 11"
      ],
      "metadata": {
        "id": "8Cle5FMAkzS0"
      }
    },
    {
      "cell_type": "markdown",
      "source": [
        "**Question 10**"
      ],
      "metadata": {
        "id": "9nTBfnR5yJlW"
      }
    },
    {
      "cell_type": "code",
      "source": [
        "import numpy as np\n",
        "import pandas as pd"
      ],
      "metadata": {
        "id": "d_DBFWMZk2fO"
      },
      "execution_count": 102,
      "outputs": []
    },
    {
      "cell_type": "code",
      "source": [
        "X = np.random.uniform(low=1.0, high=2.0, size=(20,5))"
      ],
      "metadata": {
        "id": "qFwhbHPDpojF"
      },
      "execution_count": 103,
      "outputs": []
    },
    {
      "cell_type": "code",
      "source": [
        "col_names = [\"a\", \"b\", \"c\", \"d\", \"e\"]\n",
        "X_df = pd.DataFrame(data=X, columns = col_names)"
      ],
      "metadata": {
        "id": "j3x-DDOPseyU"
      },
      "execution_count": 104,
      "outputs": []
    },
    {
      "cell_type": "code",
      "source": [
        "X_df.std().idxmax() #Column with Maximum Standard Deviation"
      ],
      "metadata": {
        "colab": {
          "base_uri": "https://localhost:8080/",
          "height": 35
        },
        "id": "ikO3mbATwj_F",
        "outputId": "492aa0cb-8a46-4623-b297-f83aeec37dd7"
      },
      "execution_count": 105,
      "outputs": [
        {
          "output_type": "execute_result",
          "data": {
            "text/plain": [
              "'d'"
            ],
            "application/vnd.google.colaboratory.intrinsic+json": {
              "type": "string"
            }
          },
          "metadata": {},
          "execution_count": 105
        }
      ]
    },
    {
      "cell_type": "code",
      "source": [
        "X_df.mean(axis=1).idxmin() #Note that the row index start with 0\n",
        "  "
      ],
      "metadata": {
        "colab": {
          "base_uri": "https://localhost:8080/"
        },
        "id": "Y-LSaUL9uCww",
        "outputId": "59bbf2bf-bbf6-425a-8a5c-9724768d5cbf"
      },
      "execution_count": 106,
      "outputs": [
        {
          "output_type": "execute_result",
          "data": {
            "text/plain": [
              "19"
            ]
          },
          "metadata": {},
          "execution_count": 106
        }
      ]
    },
    {
      "cell_type": "markdown",
      "source": [
        "**Question 11**"
      ],
      "metadata": {
        "id": "1E5z05bOyNAl"
      }
    },
    {
      "cell_type": "code",
      "source": [
        "X_df[\"f\"] = X_df.sum(axis=1)"
      ],
      "metadata": {
        "id": "86I2UiJOyR3L"
      },
      "execution_count": 107,
      "outputs": []
    },
    {
      "cell_type": "code",
      "source": [
        "X_df[\"g\"] = [\"LT8\" if i<8 else \"GT8\" for i in X_df.f]"
      ],
      "metadata": {
        "id": "vdoP9JXLyss2"
      },
      "execution_count": 108,
      "outputs": []
    },
    {
      "cell_type": "code",
      "source": [
        "X_df"
      ],
      "metadata": {
        "colab": {
          "base_uri": "https://localhost:8080/",
          "height": 677
        },
        "id": "xdmirLj5Bbu9",
        "outputId": "d92e3dd7-1e05-4774-cb42-1cdf70154bc0"
      },
      "execution_count": 109,
      "outputs": [
        {
          "output_type": "execute_result",
          "data": {
            "text/plain": [
              "           a         b         c         d         e         f    g\n",
              "0   1.551273  1.688560  1.769243  1.781605  1.306703  8.097384  GT8\n",
              "1   1.975275  1.178672  1.379322  1.449241  1.649857  7.632366  LT8\n",
              "2   1.268785  1.809571  1.530693  1.712834  1.116569  7.438452  LT8\n",
              "3   1.916210  1.824479  1.350083  1.924362  1.823339  8.838474  GT8\n",
              "4   1.053875  1.336696  1.729616  1.932880  1.368759  7.421827  LT8\n",
              "5   1.217550  1.118018  1.052198  1.758114  1.396612  6.542492  LT8\n",
              "6   1.337006  1.609086  1.416947  1.905394  1.697144  7.965578  LT8\n",
              "7   1.704730  1.345722  1.611037  1.138737  1.713534  7.513759  LT8\n",
              "8   1.972764  1.235081  1.425899  1.811902  1.386386  7.832032  LT8\n",
              "9   1.342179  1.118991  1.467574  1.052371  1.837203  6.818317  LT8\n",
              "10  1.486290  1.566782  1.697968  1.224857  1.951575  7.927472  LT8\n",
              "11  1.709036  1.552006  1.838929  1.393048  1.056468  7.549487  LT8\n",
              "12  1.835602  1.533248  1.522853  1.113868  1.500077  7.505647  LT8\n",
              "13  1.004323  1.592971  1.643792  1.876990  1.402593  7.520669  LT8\n",
              "14  1.788169  1.419906  1.202624  1.536726  1.156346  7.103771  LT8\n",
              "15  1.352474  1.885747  1.857736  1.102922  1.078048  7.276928  LT8\n",
              "16  1.176695  1.126194  1.226447  1.982272  1.364179  6.875786  LT8\n",
              "17  1.911653  1.144789  1.876534  1.860774  1.877828  8.671578  GT8\n",
              "18  1.300001  1.476382  1.627020  1.682705  1.259695  7.345804  LT8\n",
              "19  1.156544  1.665152  1.316860  1.302702  1.035182  6.476440  LT8"
            ],
            "text/html": [
              "\n",
              "  <div id=\"df-5ad1bd5b-85b9-477d-803e-eb7d049f2132\">\n",
              "    <div class=\"colab-df-container\">\n",
              "      <div>\n",
              "<style scoped>\n",
              "    .dataframe tbody tr th:only-of-type {\n",
              "        vertical-align: middle;\n",
              "    }\n",
              "\n",
              "    .dataframe tbody tr th {\n",
              "        vertical-align: top;\n",
              "    }\n",
              "\n",
              "    .dataframe thead th {\n",
              "        text-align: right;\n",
              "    }\n",
              "</style>\n",
              "<table border=\"1\" class=\"dataframe\">\n",
              "  <thead>\n",
              "    <tr style=\"text-align: right;\">\n",
              "      <th></th>\n",
              "      <th>a</th>\n",
              "      <th>b</th>\n",
              "      <th>c</th>\n",
              "      <th>d</th>\n",
              "      <th>e</th>\n",
              "      <th>f</th>\n",
              "      <th>g</th>\n",
              "    </tr>\n",
              "  </thead>\n",
              "  <tbody>\n",
              "    <tr>\n",
              "      <th>0</th>\n",
              "      <td>1.551273</td>\n",
              "      <td>1.688560</td>\n",
              "      <td>1.769243</td>\n",
              "      <td>1.781605</td>\n",
              "      <td>1.306703</td>\n",
              "      <td>8.097384</td>\n",
              "      <td>GT8</td>\n",
              "    </tr>\n",
              "    <tr>\n",
              "      <th>1</th>\n",
              "      <td>1.975275</td>\n",
              "      <td>1.178672</td>\n",
              "      <td>1.379322</td>\n",
              "      <td>1.449241</td>\n",
              "      <td>1.649857</td>\n",
              "      <td>7.632366</td>\n",
              "      <td>LT8</td>\n",
              "    </tr>\n",
              "    <tr>\n",
              "      <th>2</th>\n",
              "      <td>1.268785</td>\n",
              "      <td>1.809571</td>\n",
              "      <td>1.530693</td>\n",
              "      <td>1.712834</td>\n",
              "      <td>1.116569</td>\n",
              "      <td>7.438452</td>\n",
              "      <td>LT8</td>\n",
              "    </tr>\n",
              "    <tr>\n",
              "      <th>3</th>\n",
              "      <td>1.916210</td>\n",
              "      <td>1.824479</td>\n",
              "      <td>1.350083</td>\n",
              "      <td>1.924362</td>\n",
              "      <td>1.823339</td>\n",
              "      <td>8.838474</td>\n",
              "      <td>GT8</td>\n",
              "    </tr>\n",
              "    <tr>\n",
              "      <th>4</th>\n",
              "      <td>1.053875</td>\n",
              "      <td>1.336696</td>\n",
              "      <td>1.729616</td>\n",
              "      <td>1.932880</td>\n",
              "      <td>1.368759</td>\n",
              "      <td>7.421827</td>\n",
              "      <td>LT8</td>\n",
              "    </tr>\n",
              "    <tr>\n",
              "      <th>5</th>\n",
              "      <td>1.217550</td>\n",
              "      <td>1.118018</td>\n",
              "      <td>1.052198</td>\n",
              "      <td>1.758114</td>\n",
              "      <td>1.396612</td>\n",
              "      <td>6.542492</td>\n",
              "      <td>LT8</td>\n",
              "    </tr>\n",
              "    <tr>\n",
              "      <th>6</th>\n",
              "      <td>1.337006</td>\n",
              "      <td>1.609086</td>\n",
              "      <td>1.416947</td>\n",
              "      <td>1.905394</td>\n",
              "      <td>1.697144</td>\n",
              "      <td>7.965578</td>\n",
              "      <td>LT8</td>\n",
              "    </tr>\n",
              "    <tr>\n",
              "      <th>7</th>\n",
              "      <td>1.704730</td>\n",
              "      <td>1.345722</td>\n",
              "      <td>1.611037</td>\n",
              "      <td>1.138737</td>\n",
              "      <td>1.713534</td>\n",
              "      <td>7.513759</td>\n",
              "      <td>LT8</td>\n",
              "    </tr>\n",
              "    <tr>\n",
              "      <th>8</th>\n",
              "      <td>1.972764</td>\n",
              "      <td>1.235081</td>\n",
              "      <td>1.425899</td>\n",
              "      <td>1.811902</td>\n",
              "      <td>1.386386</td>\n",
              "      <td>7.832032</td>\n",
              "      <td>LT8</td>\n",
              "    </tr>\n",
              "    <tr>\n",
              "      <th>9</th>\n",
              "      <td>1.342179</td>\n",
              "      <td>1.118991</td>\n",
              "      <td>1.467574</td>\n",
              "      <td>1.052371</td>\n",
              "      <td>1.837203</td>\n",
              "      <td>6.818317</td>\n",
              "      <td>LT8</td>\n",
              "    </tr>\n",
              "    <tr>\n",
              "      <th>10</th>\n",
              "      <td>1.486290</td>\n",
              "      <td>1.566782</td>\n",
              "      <td>1.697968</td>\n",
              "      <td>1.224857</td>\n",
              "      <td>1.951575</td>\n",
              "      <td>7.927472</td>\n",
              "      <td>LT8</td>\n",
              "    </tr>\n",
              "    <tr>\n",
              "      <th>11</th>\n",
              "      <td>1.709036</td>\n",
              "      <td>1.552006</td>\n",
              "      <td>1.838929</td>\n",
              "      <td>1.393048</td>\n",
              "      <td>1.056468</td>\n",
              "      <td>7.549487</td>\n",
              "      <td>LT8</td>\n",
              "    </tr>\n",
              "    <tr>\n",
              "      <th>12</th>\n",
              "      <td>1.835602</td>\n",
              "      <td>1.533248</td>\n",
              "      <td>1.522853</td>\n",
              "      <td>1.113868</td>\n",
              "      <td>1.500077</td>\n",
              "      <td>7.505647</td>\n",
              "      <td>LT8</td>\n",
              "    </tr>\n",
              "    <tr>\n",
              "      <th>13</th>\n",
              "      <td>1.004323</td>\n",
              "      <td>1.592971</td>\n",
              "      <td>1.643792</td>\n",
              "      <td>1.876990</td>\n",
              "      <td>1.402593</td>\n",
              "      <td>7.520669</td>\n",
              "      <td>LT8</td>\n",
              "    </tr>\n",
              "    <tr>\n",
              "      <th>14</th>\n",
              "      <td>1.788169</td>\n",
              "      <td>1.419906</td>\n",
              "      <td>1.202624</td>\n",
              "      <td>1.536726</td>\n",
              "      <td>1.156346</td>\n",
              "      <td>7.103771</td>\n",
              "      <td>LT8</td>\n",
              "    </tr>\n",
              "    <tr>\n",
              "      <th>15</th>\n",
              "      <td>1.352474</td>\n",
              "      <td>1.885747</td>\n",
              "      <td>1.857736</td>\n",
              "      <td>1.102922</td>\n",
              "      <td>1.078048</td>\n",
              "      <td>7.276928</td>\n",
              "      <td>LT8</td>\n",
              "    </tr>\n",
              "    <tr>\n",
              "      <th>16</th>\n",
              "      <td>1.176695</td>\n",
              "      <td>1.126194</td>\n",
              "      <td>1.226447</td>\n",
              "      <td>1.982272</td>\n",
              "      <td>1.364179</td>\n",
              "      <td>6.875786</td>\n",
              "      <td>LT8</td>\n",
              "    </tr>\n",
              "    <tr>\n",
              "      <th>17</th>\n",
              "      <td>1.911653</td>\n",
              "      <td>1.144789</td>\n",
              "      <td>1.876534</td>\n",
              "      <td>1.860774</td>\n",
              "      <td>1.877828</td>\n",
              "      <td>8.671578</td>\n",
              "      <td>GT8</td>\n",
              "    </tr>\n",
              "    <tr>\n",
              "      <th>18</th>\n",
              "      <td>1.300001</td>\n",
              "      <td>1.476382</td>\n",
              "      <td>1.627020</td>\n",
              "      <td>1.682705</td>\n",
              "      <td>1.259695</td>\n",
              "      <td>7.345804</td>\n",
              "      <td>LT8</td>\n",
              "    </tr>\n",
              "    <tr>\n",
              "      <th>19</th>\n",
              "      <td>1.156544</td>\n",
              "      <td>1.665152</td>\n",
              "      <td>1.316860</td>\n",
              "      <td>1.302702</td>\n",
              "      <td>1.035182</td>\n",
              "      <td>6.476440</td>\n",
              "      <td>LT8</td>\n",
              "    </tr>\n",
              "  </tbody>\n",
              "</table>\n",
              "</div>\n",
              "      <button class=\"colab-df-convert\" onclick=\"convertToInteractive('df-5ad1bd5b-85b9-477d-803e-eb7d049f2132')\"\n",
              "              title=\"Convert this dataframe to an interactive table.\"\n",
              "              style=\"display:none;\">\n",
              "        \n",
              "  <svg xmlns=\"http://www.w3.org/2000/svg\" height=\"24px\"viewBox=\"0 0 24 24\"\n",
              "       width=\"24px\">\n",
              "    <path d=\"M0 0h24v24H0V0z\" fill=\"none\"/>\n",
              "    <path d=\"M18.56 5.44l.94 2.06.94-2.06 2.06-.94-2.06-.94-.94-2.06-.94 2.06-2.06.94zm-11 1L8.5 8.5l.94-2.06 2.06-.94-2.06-.94L8.5 2.5l-.94 2.06-2.06.94zm10 10l.94 2.06.94-2.06 2.06-.94-2.06-.94-.94-2.06-.94 2.06-2.06.94z\"/><path d=\"M17.41 7.96l-1.37-1.37c-.4-.4-.92-.59-1.43-.59-.52 0-1.04.2-1.43.59L10.3 9.45l-7.72 7.72c-.78.78-.78 2.05 0 2.83L4 21.41c.39.39.9.59 1.41.59.51 0 1.02-.2 1.41-.59l7.78-7.78 2.81-2.81c.8-.78.8-2.07 0-2.86zM5.41 20L4 18.59l7.72-7.72 1.47 1.35L5.41 20z\"/>\n",
              "  </svg>\n",
              "      </button>\n",
              "      \n",
              "  <style>\n",
              "    .colab-df-container {\n",
              "      display:flex;\n",
              "      flex-wrap:wrap;\n",
              "      gap: 12px;\n",
              "    }\n",
              "\n",
              "    .colab-df-convert {\n",
              "      background-color: #E8F0FE;\n",
              "      border: none;\n",
              "      border-radius: 50%;\n",
              "      cursor: pointer;\n",
              "      display: none;\n",
              "      fill: #1967D2;\n",
              "      height: 32px;\n",
              "      padding: 0 0 0 0;\n",
              "      width: 32px;\n",
              "    }\n",
              "\n",
              "    .colab-df-convert:hover {\n",
              "      background-color: #E2EBFA;\n",
              "      box-shadow: 0px 1px 2px rgba(60, 64, 67, 0.3), 0px 1px 3px 1px rgba(60, 64, 67, 0.15);\n",
              "      fill: #174EA6;\n",
              "    }\n",
              "\n",
              "    [theme=dark] .colab-df-convert {\n",
              "      background-color: #3B4455;\n",
              "      fill: #D2E3FC;\n",
              "    }\n",
              "\n",
              "    [theme=dark] .colab-df-convert:hover {\n",
              "      background-color: #434B5C;\n",
              "      box-shadow: 0px 1px 3px 1px rgba(0, 0, 0, 0.15);\n",
              "      filter: drop-shadow(0px 1px 2px rgba(0, 0, 0, 0.3));\n",
              "      fill: #FFFFFF;\n",
              "    }\n",
              "  </style>\n",
              "\n",
              "      <script>\n",
              "        const buttonEl =\n",
              "          document.querySelector('#df-5ad1bd5b-85b9-477d-803e-eb7d049f2132 button.colab-df-convert');\n",
              "        buttonEl.style.display =\n",
              "          google.colab.kernel.accessAllowed ? 'block' : 'none';\n",
              "\n",
              "        async function convertToInteractive(key) {\n",
              "          const element = document.querySelector('#df-5ad1bd5b-85b9-477d-803e-eb7d049f2132');\n",
              "          const dataTable =\n",
              "            await google.colab.kernel.invokeFunction('convertToInteractive',\n",
              "                                                     [key], {});\n",
              "          if (!dataTable) return;\n",
              "\n",
              "          const docLinkHtml = 'Like what you see? Visit the ' +\n",
              "            '<a target=\"_blank\" href=https://colab.research.google.com/notebooks/data_table.ipynb>data table notebook</a>'\n",
              "            + ' to learn more about interactive tables.';\n",
              "          element.innerHTML = '';\n",
              "          dataTable['output_type'] = 'display_data';\n",
              "          await google.colab.output.renderOutput(dataTable, element);\n",
              "          const docLink = document.createElement('div');\n",
              "          docLink.innerHTML = docLinkHtml;\n",
              "          element.appendChild(docLink);\n",
              "        }\n",
              "      </script>\n",
              "    </div>\n",
              "  </div>\n",
              "  "
            ]
          },
          "metadata": {},
          "execution_count": 109
        }
      ]
    },
    {
      "cell_type": "code",
      "source": [
        "X_df.f.where(X_df.g == 'LT8').dropna()"
      ],
      "metadata": {
        "colab": {
          "base_uri": "https://localhost:8080/"
        },
        "id": "Rbj4W8E4BKg3",
        "outputId": "8bf4ecea-c18f-4722-822f-e2d32ab4d3bb"
      },
      "execution_count": 110,
      "outputs": [
        {
          "output_type": "execute_result",
          "data": {
            "text/plain": [
              "1     7.632366\n",
              "2     7.438452\n",
              "4     7.421827\n",
              "5     6.542492\n",
              "6     7.965578\n",
              "7     7.513759\n",
              "8     7.832032\n",
              "9     6.818317\n",
              "10    7.927472\n",
              "11    7.549487\n",
              "12    7.505647\n",
              "13    7.520669\n",
              "14    7.103771\n",
              "15    7.276928\n",
              "16    6.875786\n",
              "18    7.345804\n",
              "19    6.476440\n",
              "Name: f, dtype: float64"
            ]
          },
          "metadata": {},
          "execution_count": 110
        }
      ]
    },
    {
      "cell_type": "code",
      "source": [
        "X_df.f.where(X_df.g == 'GT8').dropna()"
      ],
      "metadata": {
        "colab": {
          "base_uri": "https://localhost:8080/"
        },
        "id": "hsCKDnGQC3KC",
        "outputId": "140f7b0f-1e7c-41fa-e828-9666d4460166"
      },
      "execution_count": 111,
      "outputs": [
        {
          "output_type": "execute_result",
          "data": {
            "text/plain": [
              "0     8.097384\n",
              "3     8.838474\n",
              "17    8.671578\n",
              "Name: f, dtype: float64"
            ]
          },
          "metadata": {},
          "execution_count": 111
        }
      ]
    },
    {
      "cell_type": "code",
      "source": [
        "#Alternate Method\n",
        "LT = []\n",
        "GT = []\n",
        "for i,e in enumerate(X_df.g):\n",
        "  if e == \"LT8\":\n",
        "    LT.append(i)\n",
        "  else:\n",
        "    GT.append(i)\n",
        "print(\"Rows in 'f' where 'g' has 'LT8': \",LT)\n",
        "print(\"Rows in 'f' where 'g' has 'GT8': \",GT)"
      ],
      "metadata": {
        "colab": {
          "base_uri": "https://localhost:8080/"
        },
        "id": "TDNK4eTPz0E7",
        "outputId": "a50bfc85-8de8-4628-94a8-16b551631680"
      },
      "execution_count": 112,
      "outputs": [
        {
          "output_type": "stream",
          "name": "stdout",
          "text": [
            "Rows in 'f' where 'g' has 'LT8':  [1, 2, 4, 5, 6, 7, 8, 9, 10, 11, 12, 13, 14, 15, 16, 18, 19]\n",
            "Rows in 'f' where 'g' has 'GT8':  [0, 3, 17]\n"
          ]
        }
      ]
    },
    {
      "cell_type": "code",
      "source": [
        "X_df.f.where(X_df.g == 'LT8').dropna().std()"
      ],
      "metadata": {
        "colab": {
          "base_uri": "https://localhost:8080/"
        },
        "id": "5qEHW6j0DBLN",
        "outputId": "de58a1b6-87b7-4553-a170-9a39039da262"
      },
      "execution_count": 113,
      "outputs": [
        {
          "output_type": "execute_result",
          "data": {
            "text/plain": [
              "0.44326514880077617"
            ]
          },
          "metadata": {},
          "execution_count": 113
        }
      ]
    },
    {
      "cell_type": "code",
      "source": [
        "X_df.f.where(X_df.g == 'GT8').dropna().std()"
      ],
      "metadata": {
        "colab": {
          "base_uri": "https://localhost:8080/"
        },
        "id": "vAi8vo4DDGHb",
        "outputId": "c5375bdd-9acb-499c-8e20-e7af4fd32c87"
      },
      "execution_count": 114,
      "outputs": [
        {
          "output_type": "execute_result",
          "data": {
            "text/plain": [
              "0.38875191749079013"
            ]
          },
          "metadata": {},
          "execution_count": 114
        }
      ]
    },
    {
      "cell_type": "markdown",
      "source": [
        "#Question 12"
      ],
      "metadata": {
        "id": "gUxPKAzW7Ghl"
      }
    },
    {
      "cell_type": "markdown",
      "source": [
        "Broadcasting is the way numpy handles arrays of different dimension during certain operations. In general, the smaller array is broadcasted to match the dimension of the larger array. For example:"
      ],
      "metadata": {
        "id": "1uOBEfY-APWd"
      }
    },
    {
      "cell_type": "code",
      "source": [
        "import numpy as np"
      ],
      "metadata": {
        "id": "3-8k0S8EKk22"
      },
      "execution_count": 115,
      "outputs": []
    },
    {
      "cell_type": "code",
      "source": [
        "a = np.array([1, 2, 3, 4])\n",
        "b = np.array([2])\n",
        "c = a*b\n",
        "print(c)"
      ],
      "metadata": {
        "colab": {
          "base_uri": "https://localhost:8080/"
        },
        "id": "EqytQWp47I5R",
        "outputId": "8e1bc694-9cf4-48b6-8421-3f19e290b177"
      },
      "execution_count": 116,
      "outputs": [
        {
          "output_type": "stream",
          "name": "stdout",
          "text": [
            "[2 4 6 8]\n"
          ]
        }
      ]
    },
    {
      "cell_type": "markdown",
      "source": [
        "In the above example, we see that, the dimension of array $a$ is $4\\times 1$ and the dimension of array $b$ is $1$. Array $b$ acts as a scalar in this scenario. The array is stretched to match the dimension of array $a$ in the following manner:\n",
        "$$[2] → [2,2,2,2]$$\n",
        "<br>\n",
        "The resultant array is then pointwise multiplied with $a$. If the operation is additon, pointwise addition takes place."
      ],
      "metadata": {
        "id": "BtTsROleK6UV"
      }
    },
    {
      "cell_type": "code",
      "source": [
        "a = np.array([1, 2, 3, 4])\n",
        "b = np.array([2])\n",
        "c = a+b\n",
        "print(c)"
      ],
      "metadata": {
        "colab": {
          "base_uri": "https://localhost:8080/"
        },
        "id": "DlsRbW4cK5yf",
        "outputId": "58e9253a-fa36-473c-8336-6a8ce7df3ddb"
      },
      "execution_count": 117,
      "outputs": [
        {
          "output_type": "stream",
          "name": "stdout",
          "text": [
            "[3 4 5 6]\n"
          ]
        }
      ]
    },
    {
      "cell_type": "markdown",
      "source": [
        "Operation between two array is possible if the following condition for their dimension(element wise) satisfies:\n",
        "\n",
        "\n",
        "1.   The dimensions are matching\n",
        "2.   One of them is 1\n",
        "\n",
        "Another examples is as follows:"
      ],
      "metadata": {
        "id": "iRHmihDlWFDf"
      }
    },
    {
      "cell_type": "code",
      "source": [
        "A = np.random.uniform(0.0, 1.0, size=(256,256,3))\n",
        "B = np.random.uniform(1,10, size=(3,))\n",
        "Result = A*B\n",
        "print(A.shape)"
      ],
      "metadata": {
        "colab": {
          "base_uri": "https://localhost:8080/"
        },
        "id": "7k4QKrowW8f1",
        "outputId": "31fda060-29a5-4636-a461-166057fceab7"
      },
      "execution_count": 118,
      "outputs": [
        {
          "output_type": "stream",
          "name": "stdout",
          "text": [
            "(256, 256, 3)\n"
          ]
        }
      ]
    },
    {
      "cell_type": "markdown",
      "source": [
        "In the above example, the $3D$ matrix $A$ is of dimension $256\\times256\\times3$. It can be interpreted as an image of $256\\times256$ resolution and each pixel has $3$ values corresponding to $red, green, blue$. \n",
        "For the aray $B$, the dimension is $3$ or it can also be written as $1\\times1\\times3$. When the array $B$ is multiplied with $A$, it is stretched to match the the dimension of $A$."
      ],
      "metadata": {
        "id": "ImAp7BjZXjla"
      }
    },
    {
      "cell_type": "markdown",
      "source": [
        "#Question 13"
      ],
      "metadata": {
        "id": "k6fhAzC0-ylK"
      }
    },
    {
      "cell_type": "code",
      "source": [
        "import numpy as np\n",
        "import math"
      ],
      "metadata": {
        "id": "dq9FZLq3-1As"
      },
      "execution_count": 119,
      "outputs": []
    },
    {
      "cell_type": "code",
      "source": [
        "#Function to flatten the array\n",
        "output = []\n",
        "def reemovNestings(l):\n",
        "    for i in l:\n",
        "        if type(i) == np.ndarray:\n",
        "            reemovNestings(i)\n",
        "        else:\n",
        "            output.append(i)"
      ],
      "metadata": {
        "id": "yja_EZ8MnwYf"
      },
      "execution_count": 120,
      "outputs": []
    },
    {
      "cell_type": "code",
      "source": [
        "#Function to find the index of minimum\n",
        "def custom_argmin(X):\n",
        "  reemovNestings(X)\n",
        "  min = math.inf\n",
        "  min_idx = 10000000000\n",
        "  for i,m in enumerate(output):\n",
        "    if m<min:\n",
        "      min = m\n",
        "      min_idx = i\n",
        "  l = min_idx\n",
        "  k = list(X.shape[1:])\n",
        "  co = []\n",
        "  while k!=[]:\n",
        "    c1 = math.ceil(l/math.prod(k))\n",
        "    l = l - (c1-1)*math.prod(k)\n",
        "    co.append(c1-1)\n",
        "    if len(k) == 1:\n",
        "      co.append(math.floor(l%k[0])-1)\n",
        "      break\n",
        "    k.pop(0)\n",
        "\n",
        "  return co, min_idx"
      ],
      "metadata": {
        "id": "752XQRkm-6b6"
      },
      "execution_count": 121,
      "outputs": []
    },
    {
      "cell_type": "code",
      "source": [
        "X = np.random.uniform(low=1.0, high=2.0, size=(6,5,7,9))"
      ],
      "metadata": {
        "id": "AN_4nW55X3v8"
      },
      "execution_count": 122,
      "outputs": []
    },
    {
      "cell_type": "code",
      "source": [
        "#Custom Argmin\n",
        "position, index = custom_argmin(X)\n",
        "print(\"The position at which the minimum is present is \",position)\n",
        "print(\"The index is \",index)"
      ],
      "metadata": {
        "colab": {
          "base_uri": "https://localhost:8080/"
        },
        "id": "0lSxTOa5YraD",
        "outputId": "7c2afd15-6a5a-4542-b836-7e9561c55741"
      },
      "execution_count": 123,
      "outputs": [
        {
          "output_type": "stream",
          "name": "stdout",
          "text": [
            "The position at which the minimum is present is  [4, 3, 4, 0]\n",
            "The index is  1486\n"
          ]
        }
      ]
    },
    {
      "cell_type": "code",
      "source": [
        "#Numpy Argmin\n",
        "np.argmin(X)"
      ],
      "metadata": {
        "colab": {
          "base_uri": "https://localhost:8080/"
        },
        "id": "8X_Z0wM9c3k1",
        "outputId": "25207798-89e1-42ea-c172-82181f3301d3"
      },
      "execution_count": 124,
      "outputs": [
        {
          "output_type": "execute_result",
          "data": {
            "text/plain": [
              "1486"
            ]
          },
          "metadata": {},
          "execution_count": 124
        }
      ]
    }
  ]
}